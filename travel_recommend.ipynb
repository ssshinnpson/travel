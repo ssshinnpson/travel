{
 "cells": [
  {
   "cell_type": "code",
   "execution_count": 1,
   "id": "b5780cf3",
   "metadata": {
    "executionInfo": {
     "elapsed": 1426,
     "status": "ok",
     "timestamp": 1756360007039,
     "user": {
      "displayName": "신승철",
      "userId": "05871072870523832925"
     },
     "user_tz": -540
    },
    "id": "b5780cf3"
   },
   "outputs": [],
   "source": [
    "import numpy as np\n",
    "import pandas as pd\n",
    "from sklearn.model_selection import train_test_split"
   ]
  },
  {
   "cell_type": "code",
   "execution_count": 3,
   "id": "mHp7zWlQNxV2",
   "metadata": {
    "colab": {
     "base_uri": "https://localhost:8080/"
    },
    "executionInfo": {
     "elapsed": 16969,
     "status": "ok",
     "timestamp": 1756360094290,
     "user": {
      "displayName": "신승철",
      "userId": "05871072870523832925"
     },
     "user_tz": -540
    },
    "id": "mHp7zWlQNxV2",
    "outputId": "401c8d15-882a-4b87-a904-b3d008abac37"
   },
   "outputs": [
    {
     "name": "stdout",
     "output_type": "stream",
     "text": [
      "Mounted at /content/drive\n"
     ]
    }
   ],
   "source": [
    "from google.colab import drive\n",
    "drive.mount('/content/drive')"
   ]
  },
  {
   "cell_type": "code",
   "execution_count": 4,
   "id": "fRTnjbIcOGx-",
   "metadata": {
    "colab": {
     "base_uri": "https://localhost:8080/"
    },
    "executionInfo": {
     "elapsed": 342,
     "status": "ok",
     "timestamp": 1756360155912,
     "user": {
      "displayName": "신승철",
      "userId": "05871072870523832925"
     },
     "user_tz": -540
    },
    "id": "fRTnjbIcOGx-",
    "outputId": "bc40dacb-fa3c-44c5-d792-cb0b3c82d72f"
   },
   "outputs": [
    {
     "name": "stdout",
     "output_type": "stream",
     "text": [
      "['travel_recommend.ipynb', '01_seq2seq_translation.ipynb', '01_transformer_by_pytorch.ipynb', '02_BERT_transfer_learning.ipynb', 'travel_dataset.csv']\n"
     ]
    }
   ],
   "source": [
    "import os\n",
    "\n",
    "GOOGLE_DRIVE_PATH_AFTER_MYDRIVE = 'SKN'\n",
    "GOOGLE_DRIVE_PATH = os.path.join('drive', 'My Drive', GOOGLE_DRIVE_PATH_AFTER_MYDRIVE)\n",
    "print(os.listdir(GOOGLE_DRIVE_PATH))"
   ]
  },
  {
   "cell_type": "code",
   "execution_count": 136,
   "id": "ba83a6f0",
   "metadata": {
    "colab": {
     "base_uri": "https://localhost:8080/"
    },
    "collapsed": true,
    "executionInfo": {
     "elapsed": 31,
     "status": "ok",
     "timestamp": 1756366410576,
     "user": {
      "displayName": "신승철",
      "userId": "05871072870523832925"
     },
     "user_tz": -540
    },
    "id": "ba83a6f0",
    "outputId": "86715898-6b2b-4a5e-8a5a-6e6cb432b459"
   },
   "outputs": [
    {
     "name": "stdout",
     "output_type": "stream",
     "text": [
      "<class 'pandas.core.frame.DataFrame'>\n",
      "RangeIndex: 1200 entries, 0 to 1199\n",
      "Data columns (total 14 columns):\n",
      " #   Column                    Non-Null Count  Dtype \n",
      "---  ------                    --------------  ----- \n",
      " 0   id                        1200 non-null   object\n",
      " 1   name                      1200 non-null   object\n",
      " 2   city                      1200 non-null   object\n",
      " 3   country                   1200 non-null   object\n",
      " 4   continent                 1200 non-null   object\n",
      " 5   climate                   1200 non-null   object\n",
      " 6   budget                    1200 non-null   object\n",
      " 7   group_size                1200 non-null   object\n",
      " 8   vibe                      1200 non-null   object\n",
      " 9   best_months               1200 non-null   object\n",
      " 10  typical_cost_per_day_usd  1200 non-null   int64 \n",
      " 11  activities                1200 non-null   object\n",
      " 12  description               1200 non-null   object\n",
      " 13  tags                      1200 non-null   object\n",
      "dtypes: int64(1), object(13)\n",
      "memory usage: 131.4+ KB\n"
     ]
    }
   ],
   "source": [
    "df = pd.read_csv(f'{GOOGLE_DRIVE_PATH}/travel_dataset.csv')\n",
    "df.info()"
   ]
  },
  {
   "cell_type": "code",
   "execution_count": 148,
   "id": "3MPHmgsDmdSd",
   "metadata": {
    "executionInfo": {
     "elapsed": 6,
     "status": "ok",
     "timestamp": 1756366777431,
     "user": {
      "displayName": "신승철",
      "userId": "05871072870523832925"
     },
     "user_tz": -540
    },
    "id": "3MPHmgsDmdSd"
   },
   "outputs": [],
   "source": [
    "def create_description_concise(row):\n",
    "    return (\n",
    "        f\"{row['id']} blends {row['vibe']} and {row['climate']} vibes—great for {row['group_size']} trips. \"\n",
    "        f\"Expect {row['activities']}. \"\n",
    "        f\"Best in {row['best_months']}.\"\n",
    "    )"
   ]
  },
  {
   "cell_type": "code",
   "execution_count": 145,
   "id": "thRGQLN5mp8z",
   "metadata": {
    "colab": {
     "base_uri": "https://localhost:8080/",
     "height": 53
    },
    "executionInfo": {
     "elapsed": 13,
     "status": "ok",
     "timestamp": 1756366688104,
     "user": {
      "displayName": "신승철",
      "userId": "05871072870523832925"
     },
     "user_tz": -540
    },
    "id": "thRGQLN5mp8z",
    "outputId": "92c20673-02fe-4be3-c571-fc3364b672a0"
   },
   "outputs": [
    {
     "data": {
      "application/vnd.google.colaboratory.intrinsic+json": {
       "type": "string"
      },
      "text/plain": [
       "'Bali, Indonesia blends relaxation and tropical vibes—great for family trips. Expect spas, slow cafés. Best in April, December, March.'"
      ]
     },
     "execution_count": 145,
     "metadata": {},
     "output_type": "execute_result"
    }
   ],
   "source": [
    "df['description'][0]"
   ]
  },
  {
   "cell_type": "markdown",
   "id": "vErat_bidQ3m",
   "metadata": {
    "id": "vErat_bidQ3m"
   },
   "source": []
  },
  {
   "cell_type": "code",
   "execution_count": 154,
   "id": "dZvUFHExbRz5",
   "metadata": {
    "colab": {
     "base_uri": "https://localhost:8080/",
     "height": 458
    },
    "executionInfo": {
     "elapsed": 45,
     "status": "ok",
     "timestamp": 1756366845925,
     "user": {
      "displayName": "신승철",
      "userId": "05871072870523832925"
     },
     "user_tz": -540
    },
    "id": "dZvUFHExbRz5",
    "outputId": "43fd999b-f870-4bfc-898e-132be51e391e"
   },
   "outputs": [
    {
     "data": {
      "text/html": [
       "<div>\n",
       "<style scoped>\n",
       "    .dataframe tbody tr th:only-of-type {\n",
       "        vertical-align: middle;\n",
       "    }\n",
       "\n",
       "    .dataframe tbody tr th {\n",
       "        vertical-align: top;\n",
       "    }\n",
       "\n",
       "    .dataframe thead th {\n",
       "        text-align: right;\n",
       "    }\n",
       "</style>\n",
       "<table border=\"1\" class=\"dataframe\">\n",
       "  <thead>\n",
       "    <tr style=\"text-align: right;\">\n",
       "      <th></th>\n",
       "      <th>climate</th>\n",
       "    </tr>\n",
       "  </thead>\n",
       "  <tbody>\n",
       "    <tr>\n",
       "      <th>0</th>\n",
       "      <td>Hot</td>\n",
       "    </tr>\n",
       "    <tr>\n",
       "      <th>1</th>\n",
       "      <td>Hot</td>\n",
       "    </tr>\n",
       "    <tr>\n",
       "      <th>2</th>\n",
       "      <td>Temperate</td>\n",
       "    </tr>\n",
       "    <tr>\n",
       "      <th>3</th>\n",
       "      <td>Hot</td>\n",
       "    </tr>\n",
       "    <tr>\n",
       "      <th>4</th>\n",
       "      <td>Hot</td>\n",
       "    </tr>\n",
       "    <tr>\n",
       "      <th>...</th>\n",
       "      <td>...</td>\n",
       "    </tr>\n",
       "    <tr>\n",
       "      <th>1195</th>\n",
       "      <td>Hot</td>\n",
       "    </tr>\n",
       "    <tr>\n",
       "      <th>1196</th>\n",
       "      <td>Temperate</td>\n",
       "    </tr>\n",
       "    <tr>\n",
       "      <th>1197</th>\n",
       "      <td>Hot</td>\n",
       "    </tr>\n",
       "    <tr>\n",
       "      <th>1198</th>\n",
       "      <td>Temperate</td>\n",
       "    </tr>\n",
       "    <tr>\n",
       "      <th>1199</th>\n",
       "      <td>Hot</td>\n",
       "    </tr>\n",
       "  </tbody>\n",
       "</table>\n",
       "<p>1200 rows × 1 columns</p>\n",
       "</div><br><label><b>dtype:</b> object</label>"
      ],
      "text/plain": [
       "0             Hot\n",
       "1             Hot\n",
       "2       Temperate\n",
       "3             Hot\n",
       "4             Hot\n",
       "          ...    \n",
       "1195          Hot\n",
       "1196    Temperate\n",
       "1197          Hot\n",
       "1198    Temperate\n",
       "1199          Hot\n",
       "Name: climate, Length: 1200, dtype: object"
      ]
     },
     "execution_count": 154,
     "metadata": {},
     "output_type": "execute_result"
    }
   ],
   "source": [
    "df.loc[df[df['climate'] == 'Tropical'].index, 'climate'] = 'Hot'\n",
    "df.loc[df[df['climate'] == 'Desert'].index, 'climate'] = 'Hot'\n",
    "df.loc[df[df['climate'] == 'Mediterranean'].index, 'climate'] = 'Temperate'\n",
    "\n",
    "df['new_description'] = df.apply(create_description_concise, axis=1)\n",
    "df['new_description'][0]\n",
    "df['climate']"
   ]
  },
  {
   "cell_type": "code",
   "execution_count": 6,
   "id": "94a92727",
   "metadata": {
    "executionInfo": {
     "elapsed": 14,
     "status": "ok",
     "timestamp": 1756360214995,
     "user": {
      "displayName": "신승철",
      "userId": "05871072870523832925"
     },
     "user_tz": -540
    },
    "id": "94a92727"
   },
   "outputs": [],
   "source": [
    "X = df['new_description']\n",
    "y = df['id']\n",
    "\n",
    "X_train, X_test, y_train, y_test = train_test_split(X, y, stratify=df['city'], random_state=42)\n",
    "X_train = X_train.values.tolist()\n",
    "X_test = X_test.values.tolist()\n",
    "\n",
    "y_train = y_train.values.tolist()\n",
    "y_test = y_test.values.tolist()"
   ]
  },
  {
   "cell_type": "markdown",
   "id": "d7a8f1cc",
   "metadata": {
    "id": "d7a8f1cc"
   },
   "source": [
    "### model"
   ]
  },
  {
   "cell_type": "code",
   "execution_count": 7,
   "id": "c6e6ec4f",
   "metadata": {
    "colab": {
     "base_uri": "https://localhost:8080/"
    },
    "collapsed": true,
    "executionInfo": {
     "elapsed": 8758,
     "status": "ok",
     "timestamp": 1756360228281,
     "user": {
      "displayName": "신승철",
      "userId": "05871072870523832925"
     },
     "user_tz": -540
    },
    "id": "c6e6ec4f",
    "outputId": "fbf9b84d-8485-4a76-deaf-16e7da9dbcc8"
   },
   "outputs": [
    {
     "name": "stdout",
     "output_type": "stream",
     "text": [
      "Requirement already satisfied: sentence-transformers in /usr/local/lib/python3.12/dist-packages (5.1.0)\n",
      "Requirement already satisfied: transformers<5.0.0,>=4.41.0 in /usr/local/lib/python3.12/dist-packages (from sentence-transformers) (4.55.4)\n",
      "Requirement already satisfied: tqdm in /usr/local/lib/python3.12/dist-packages (from sentence-transformers) (4.67.1)\n",
      "Requirement already satisfied: torch>=1.11.0 in /usr/local/lib/python3.12/dist-packages (from sentence-transformers) (2.8.0+cu126)\n",
      "Requirement already satisfied: scikit-learn in /usr/local/lib/python3.12/dist-packages (from sentence-transformers) (1.6.1)\n",
      "Requirement already satisfied: scipy in /usr/local/lib/python3.12/dist-packages (from sentence-transformers) (1.16.1)\n",
      "Requirement already satisfied: huggingface-hub>=0.20.0 in /usr/local/lib/python3.12/dist-packages (from sentence-transformers) (0.34.4)\n",
      "Requirement already satisfied: Pillow in /usr/local/lib/python3.12/dist-packages (from sentence-transformers) (11.3.0)\n",
      "Requirement already satisfied: typing_extensions>=4.5.0 in /usr/local/lib/python3.12/dist-packages (from sentence-transformers) (4.15.0)\n",
      "Requirement already satisfied: filelock in /usr/local/lib/python3.12/dist-packages (from huggingface-hub>=0.20.0->sentence-transformers) (3.19.1)\n",
      "Requirement already satisfied: fsspec>=2023.5.0 in /usr/local/lib/python3.12/dist-packages (from huggingface-hub>=0.20.0->sentence-transformers) (2025.3.0)\n",
      "Requirement already satisfied: packaging>=20.9 in /usr/local/lib/python3.12/dist-packages (from huggingface-hub>=0.20.0->sentence-transformers) (25.0)\n",
      "Requirement already satisfied: pyyaml>=5.1 in /usr/local/lib/python3.12/dist-packages (from huggingface-hub>=0.20.0->sentence-transformers) (6.0.2)\n",
      "Requirement already satisfied: requests in /usr/local/lib/python3.12/dist-packages (from huggingface-hub>=0.20.0->sentence-transformers) (2.32.4)\n",
      "Requirement already satisfied: hf-xet<2.0.0,>=1.1.3 in /usr/local/lib/python3.12/dist-packages (from huggingface-hub>=0.20.0->sentence-transformers) (1.1.8)\n",
      "Requirement already satisfied: setuptools in /usr/local/lib/python3.12/dist-packages (from torch>=1.11.0->sentence-transformers) (75.2.0)\n",
      "Requirement already satisfied: sympy>=1.13.3 in /usr/local/lib/python3.12/dist-packages (from torch>=1.11.0->sentence-transformers) (1.13.3)\n",
      "Requirement already satisfied: networkx in /usr/local/lib/python3.12/dist-packages (from torch>=1.11.0->sentence-transformers) (3.5)\n",
      "Requirement already satisfied: jinja2 in /usr/local/lib/python3.12/dist-packages (from torch>=1.11.0->sentence-transformers) (3.1.6)\n",
      "Requirement already satisfied: nvidia-cuda-nvrtc-cu12==12.6.77 in /usr/local/lib/python3.12/dist-packages (from torch>=1.11.0->sentence-transformers) (12.6.77)\n",
      "Requirement already satisfied: nvidia-cuda-runtime-cu12==12.6.77 in /usr/local/lib/python3.12/dist-packages (from torch>=1.11.0->sentence-transformers) (12.6.77)\n",
      "Requirement already satisfied: nvidia-cuda-cupti-cu12==12.6.80 in /usr/local/lib/python3.12/dist-packages (from torch>=1.11.0->sentence-transformers) (12.6.80)\n",
      "Requirement already satisfied: nvidia-cudnn-cu12==9.10.2.21 in /usr/local/lib/python3.12/dist-packages (from torch>=1.11.0->sentence-transformers) (9.10.2.21)\n",
      "Requirement already satisfied: nvidia-cublas-cu12==12.6.4.1 in /usr/local/lib/python3.12/dist-packages (from torch>=1.11.0->sentence-transformers) (12.6.4.1)\n",
      "Requirement already satisfied: nvidia-cufft-cu12==11.3.0.4 in /usr/local/lib/python3.12/dist-packages (from torch>=1.11.0->sentence-transformers) (11.3.0.4)\n",
      "Requirement already satisfied: nvidia-curand-cu12==10.3.7.77 in /usr/local/lib/python3.12/dist-packages (from torch>=1.11.0->sentence-transformers) (10.3.7.77)\n",
      "Requirement already satisfied: nvidia-cusolver-cu12==11.7.1.2 in /usr/local/lib/python3.12/dist-packages (from torch>=1.11.0->sentence-transformers) (11.7.1.2)\n",
      "Requirement already satisfied: nvidia-cusparse-cu12==12.5.4.2 in /usr/local/lib/python3.12/dist-packages (from torch>=1.11.0->sentence-transformers) (12.5.4.2)\n",
      "Requirement already satisfied: nvidia-cusparselt-cu12==0.7.1 in /usr/local/lib/python3.12/dist-packages (from torch>=1.11.0->sentence-transformers) (0.7.1)\n",
      "Requirement already satisfied: nvidia-nccl-cu12==2.27.3 in /usr/local/lib/python3.12/dist-packages (from torch>=1.11.0->sentence-transformers) (2.27.3)\n",
      "Requirement already satisfied: nvidia-nvtx-cu12==12.6.77 in /usr/local/lib/python3.12/dist-packages (from torch>=1.11.0->sentence-transformers) (12.6.77)\n",
      "Requirement already satisfied: nvidia-nvjitlink-cu12==12.6.85 in /usr/local/lib/python3.12/dist-packages (from torch>=1.11.0->sentence-transformers) (12.6.85)\n",
      "Requirement already satisfied: nvidia-cufile-cu12==1.11.1.6 in /usr/local/lib/python3.12/dist-packages (from torch>=1.11.0->sentence-transformers) (1.11.1.6)\n",
      "Requirement already satisfied: triton==3.4.0 in /usr/local/lib/python3.12/dist-packages (from torch>=1.11.0->sentence-transformers) (3.4.0)\n",
      "Requirement already satisfied: numpy>=1.17 in /usr/local/lib/python3.12/dist-packages (from transformers<5.0.0,>=4.41.0->sentence-transformers) (2.0.2)\n",
      "Requirement already satisfied: regex!=2019.12.17 in /usr/local/lib/python3.12/dist-packages (from transformers<5.0.0,>=4.41.0->sentence-transformers) (2024.11.6)\n",
      "Requirement already satisfied: tokenizers<0.22,>=0.21 in /usr/local/lib/python3.12/dist-packages (from transformers<5.0.0,>=4.41.0->sentence-transformers) (0.21.4)\n",
      "Requirement already satisfied: safetensors>=0.4.3 in /usr/local/lib/python3.12/dist-packages (from transformers<5.0.0,>=4.41.0->sentence-transformers) (0.6.2)\n",
      "Requirement already satisfied: joblib>=1.2.0 in /usr/local/lib/python3.12/dist-packages (from scikit-learn->sentence-transformers) (1.5.1)\n",
      "Requirement already satisfied: threadpoolctl>=3.1.0 in /usr/local/lib/python3.12/dist-packages (from scikit-learn->sentence-transformers) (3.6.0)\n",
      "Requirement already satisfied: mpmath<1.4,>=1.1.0 in /usr/local/lib/python3.12/dist-packages (from sympy>=1.13.3->torch>=1.11.0->sentence-transformers) (1.3.0)\n",
      "Requirement already satisfied: MarkupSafe>=2.0 in /usr/local/lib/python3.12/dist-packages (from jinja2->torch>=1.11.0->sentence-transformers) (3.0.2)\n",
      "Requirement already satisfied: charset_normalizer<4,>=2 in /usr/local/lib/python3.12/dist-packages (from requests->huggingface-hub>=0.20.0->sentence-transformers) (3.4.3)\n",
      "Requirement already satisfied: idna<4,>=2.5 in /usr/local/lib/python3.12/dist-packages (from requests->huggingface-hub>=0.20.0->sentence-transformers) (3.10)\n",
      "Requirement already satisfied: urllib3<3,>=1.21.1 in /usr/local/lib/python3.12/dist-packages (from requests->huggingface-hub>=0.20.0->sentence-transformers) (2.5.0)\n",
      "Requirement already satisfied: certifi>=2017.4.17 in /usr/local/lib/python3.12/dist-packages (from requests->huggingface-hub>=0.20.0->sentence-transformers) (2025.8.3)\n"
     ]
    }
   ],
   "source": [
    "# !pip install -U sentence-transformers"
   ]
  },
  {
   "cell_type": "code",
   "execution_count": 150,
   "id": "e90d625c",
   "metadata": {
    "colab": {
     "base_uri": "https://localhost:8080/"
    },
    "executionInfo": {
     "elapsed": 1799,
     "status": "ok",
     "timestamp": 1756366797277,
     "user": {
      "displayName": "신승철",
      "userId": "05871072870523832925"
     },
     "user_tz": -540
    },
    "id": "e90d625c",
    "outputId": "9d62feb6-854b-4e89-dc68-07ccb8730dd9"
   },
   "outputs": [
    {
     "name": "stdout",
     "output_type": "stream",
     "text": [
      "(1200, 384)\n"
     ]
    }
   ],
   "source": [
    "from sentence_transformers import SentenceTransformer\n",
    "\n",
    "emb_model = SentenceTransformer('sentence-transformers/all-MiniLM-L6-v2')\n",
    "\n",
    "new_desc = df['new_description'].values.tolist()\n",
    "\n",
    "emb_vecs = emb_model.encode(new_desc)\n",
    "print(emb_vecs.shape)"
   ]
  },
  {
   "cell_type": "code",
   "execution_count": 151,
   "id": "uT8melfvZvR9",
   "metadata": {
    "colab": {
     "base_uri": "https://localhost:8080/"
    },
    "executionInfo": {
     "elapsed": 1123,
     "status": "ok",
     "timestamp": 1756366802451,
     "user": {
      "displayName": "신승철",
      "userId": "05871072870523832925"
     },
     "user_tz": -540
    },
    "id": "uT8melfvZvR9",
    "outputId": "01862051-a94c-4347-eec7-7d2db868b5e7"
   },
   "outputs": [
    {
     "name": "stderr",
     "output_type": "stream",
     "text": [
      "Device set to use cuda:0\n"
     ]
    }
   ],
   "source": [
    "from transformers import pipeline\n",
    "\n",
    "classifier = pipeline('zero-shot-classification', model='facebook/bart-large-mnli')\n",
    "# generator = pipeline('text-generation', model='gpt2')"
   ]
  },
  {
   "cell_type": "code",
   "execution_count": 152,
   "id": "boOjlmwydT4C",
   "metadata": {
    "colab": {
     "base_uri": "https://localhost:8080/"
    },
    "executionInfo": {
     "elapsed": 83,
     "status": "ok",
     "timestamp": 1756366805133,
     "user": {
      "displayName": "신승철",
      "userId": "05871072870523832925"
     },
     "user_tz": -540
    },
    "id": "boOjlmwydT4C",
    "outputId": "5413188c-9815-4aa4-d6f3-e4247288b43c"
   },
   "outputs": [
    {
     "name": "stdout",
     "output_type": "stream",
     "text": [
      "{'sequence': 'what a sound', 'labels': ['Hot', 'Temperate', 'Cold'], 'scores': [0.44440263509750366, 0.40680935978889465, 0.14878803491592407]}\n"
     ]
    }
   ],
   "source": [
    "climate_labels = df['climate'].unique()\n",
    "query = 'what a sound'\n",
    "\n",
    "results = classifier(query, climate_labels)\n",
    "print(results)\n"
   ]
  },
  {
   "cell_type": "code",
   "execution_count": null,
   "id": "CO7kM7_YRQMl",
   "metadata": {
    "colab": {
     "base_uri": "https://localhost:8080/"
    },
    "executionInfo": {
     "elapsed": 109,
     "status": "ok",
     "timestamp": 1756367587314,
     "user": {
      "displayName": "신승철",
      "userId": "05871072870523832925"
     },
     "user_tz": -540
    },
    "id": "CO7kM7_YRQMl",
    "outputId": "49bcfa3d-ea3b-4582-c282-5276ffa1f476"
   },
   "outputs": [
    {
     "name": "stdout",
     "output_type": "stream",
     "text": [
      "{'sequence': 'not temperate places in September', 'labels': ['Cold', 'Hot', 'Temperate'], 'scores': [0.6488567590713501, 0.2900884449481964, 0.061054788529872894]}\n",
      "(625,)\n",
      "[612 210 220]\n",
      "user query: not temperate places in September\n",
      "recommended city: ['Tulum-Mexico-677320' 'Goa-India-313886' 'Malé-Maldives-539179']\n",
      "recommended description: ['Tulum-Mexico-677320 blends Historic and Temperate vibes—great for Group trips. Expect old towns, ancient sites. Best in February, October, December.'\n",
      " 'Goa-India-313886 blends Culture and Temperate vibes—great for Solo trips. Expect theaters, museums. Best in July, August, March.'\n",
      " 'Malé-Maldives-539179 blends Relaxation and Hot vibes—great for Group trips. Expect spas, sunbathing. Best in February, September, August.']\n",
      "similarity score: [0.49303234 0.48721647 0.48601907]\n",
      "\n",
      "If you want not temperate places in September places, what about Tulum-Mexico-677320?\n",
      "Tulum-Mexico-677320 blends Historic and Temperate vibes—great for Group trips. Expect old towns, ancient sites. Best in February, October, December..\n",
      "What about Goa-India-313886 and Malé-Maldives-539179?\n"
     ]
    }
   ],
   "source": [
    "from sklearn.metrics.pairwise import cosine_similarity\n",
    "\n",
    "user_query = 'not temperate places in September'\n",
    "\n",
    "climate_result = classifier(user_query, climate_labels)\n",
    "\n",
    "idx = None\n",
    "if climate_result['scores'][0] >= 0.8:\n",
    "  idx = df[df['climate']==climate_result['labels'][0]].index\n",
    "elif climate_result['scores'][2] <= 0.1:\n",
    "  idx = df[df['climate']!=climate_result['labels'][2]].index\n",
    "else:\n",
    "  idx = df.index\n",
    "\n",
    "print(climate_result)\n",
    "\n",
    "query_vector = emb_model.encode([user_query])\n",
    "\n",
    "similarities = cosine_similarity(query_vector, emb_vecs[idx]).reshape(-1)\n",
    "\n",
    "print(similarities.shape)\n",
    "\n",
    "sim_idx = similarities.argsort()[:-4:-1]\n",
    "\n",
    "print(sim_idx)\n",
    "# sim_idx = idx[sim_idx]\n",
    "\n",
    "ndf = df.iloc[idx].reset_index(drop=True)\n",
    "\n",
    "recommended_city = ndf.iloc[sim_idx]['id']\n",
    "recommended_desc = ndf.iloc[sim_idx]['new_description']\n",
    "similarity_score = similarities[sim_idx]\n",
    "\n",
    "print('user query:', user_query)\n",
    "print('recommended city:', recommended_city.values)\n",
    "print('recommended description:', recommended_desc.values)\n",
    "print('similarity score:', similarity_score)\n",
    "\n",
    "first = recommended_city.values[0]\n",
    "second = recommended_city.values[1]\n",
    "third = recommended_city.values[2]\n",
    "first_desc = recommended_desc.values[0]\n",
    "\n",
    "print(f'''\n",
    "If you want {user_query} places, what about {first}?\n",
    "{first_desc}.\n",
    "What about {second} and {third}?''')\n"
   ]
  },
  {
   "cell_type": "code",
   "execution_count": null,
   "id": "1e94dd93",
   "metadata": {
    "id": "1e94dd93"
   },
   "outputs": [],
   "source": []
  }
 ],
 "metadata": {
  "accelerator": "GPU",
  "colab": {
   "gpuType": "T4",
   "provenance": []
  },
  "kernelspec": {
   "display_name": "nlp_env",
   "language": "python",
   "name": "python3"
  },
  "language_info": {
   "codemirror_mode": {
    "name": "ipython",
    "version": 3
   },
   "file_extension": ".py",
   "mimetype": "text/x-python",
   "name": "python",
   "nbconvert_exporter": "python",
   "pygments_lexer": "ipython3",
   "version": "3.12.11"
  }
 },
 "nbformat": 4,
 "nbformat_minor": 5
}
